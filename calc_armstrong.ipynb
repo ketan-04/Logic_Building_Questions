{
 "cells": [
  {
   "cell_type": "markdown",
   "metadata": {},
   "source": [
    "## My code - with own logic "
   ]
  },
  {
   "cell_type": "code",
   "execution_count": 5,
   "metadata": {},
   "outputs": [
    {
     "name": "stdout",
     "output_type": "stream",
     "text": [
      "not a armstrong\n",
      "not a armstrong\n"
     ]
    }
   ],
   "source": [
    "def check_armstrong(n):\n",
    "    len_n= len(str(n))\n",
    "    c = []\n",
    "    for i in range (1 , len_n+1):\n",
    "        c.append(int(i)**len_n)\n",
    "    check = sum(c)\n",
    "    if check == n :\n",
    "        print(\"armstrong\")\n",
    "    else:\n",
    "        print(\"not a armstrong\")\n",
    "\n",
    "check_armstrong(153)\n",
    "check_armstrong(321 )"
   ]
  },
  {
   "cell_type": "markdown",
   "metadata": {},
   "source": [
    "## code with help "
   ]
  },
  {
   "cell_type": "code",
   "execution_count": 8,
   "metadata": {},
   "outputs": [
    {
     "name": "stdout",
     "output_type": "stream",
     "text": [
      "armstrong\n",
      "not a armstrong\n",
      "armstrong\n"
     ]
    }
   ],
   "source": [
    "def check_armstrong(n):\n",
    "    len_n= len(str(n))\n",
    "    c = []\n",
    "    for i in str (n):\n",
    "        c.append(int(i)**len_n)\n",
    "    check = sum(c)\n",
    "    if check == n :\n",
    "        print(\"armstrong\")\n",
    "    else:\n",
    "        print(\"not a armstrong\")\n",
    "\n",
    "check_armstrong(153)\n",
    "check_armstrong(321)\n",
    "check_armstrong(9474)"
   ]
  },
  {
   "cell_type": "code",
   "execution_count": null,
   "metadata": {},
   "outputs": [],
   "source": []
  },
  {
   "cell_type": "code",
   "execution_count": null,
   "metadata": {},
   "outputs": [],
   "source": []
  }
 ],
 "metadata": {
  "kernelspec": {
   "display_name": "Python 3",
   "language": "python",
   "name": "python3"
  },
  "language_info": {
   "codemirror_mode": {
    "name": "ipython",
    "version": 3
   },
   "file_extension": ".py",
   "mimetype": "text/x-python",
   "name": "python",
   "nbconvert_exporter": "python",
   "pygments_lexer": "ipython3",
   "version": "3.13.1"
  }
 },
 "nbformat": 4,
 "nbformat_minor": 2
}
