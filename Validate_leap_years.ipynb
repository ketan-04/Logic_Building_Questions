{
 "cells": [
  {
   "cell_type": "markdown",
   "metadata": {},
   "source": [
    "# OWN LOGIC"
   ]
  },
  {
   "cell_type": "code",
   "execution_count": 6,
   "metadata": {},
   "outputs": [
    {
     "name": "stdout",
     "output_type": "stream",
     "text": [
      "not a leap year \n"
     ]
    }
   ],
   "source": [
    "def leap_year_check(year):\n",
    "    if (year%400==0):\n",
    "        if (year%100==0):\n",
    "            if (year%4==0):\n",
    "                print(\"Leap Year\")\n",
    "    else:\n",
    "        print(\"not a leap year \")\n",
    "leap_year_check(1996)"
   ]
  },
  {
   "cell_type": "markdown",
   "metadata": {},
   "source": [
    "# WITH HELP"
   ]
  },
  {
   "cell_type": "code",
   "execution_count": 7,
   "metadata": {},
   "outputs": [
    {
     "name": "stdout",
     "output_type": "stream",
     "text": [
      "Leap year\n",
      "not a leap year\n",
      "Leap year\n",
      "not a leap year\n"
     ]
    }
   ],
   "source": [
    "def leap_year_check(year):\n",
    "    if (year%400==0):\n",
    "        print(\"Leap Year\")\n",
    "    elif(year%100==0):\n",
    "        print(\"not a leap year\")\n",
    "    elif(year%4==0):\n",
    "        print(\"Leap year\")\n",
    "    else:\n",
    "        print(\"not a leap year\")\n",
    "\n",
    "leap_year_check(1996)\n",
    "leap_year_check(2001)\n",
    "leap_year_check(2016)\n",
    "leap_year_check(2025)"
   ]
  },
  {
   "cell_type": "code",
   "execution_count": null,
   "metadata": {},
   "outputs": [],
   "source": []
  }
 ],
 "metadata": {
  "kernelspec": {
   "display_name": "Python 3",
   "language": "python",
   "name": "python3"
  },
  "language_info": {
   "codemirror_mode": {
    "name": "ipython",
    "version": 3
   },
   "file_extension": ".py",
   "mimetype": "text/x-python",
   "name": "python",
   "nbconvert_exporter": "python",
   "pygments_lexer": "ipython3",
   "version": "3.13.1"
  }
 },
 "nbformat": 4,
 "nbformat_minor": 2
}
